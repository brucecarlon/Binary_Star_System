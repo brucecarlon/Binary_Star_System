{
 "cells": [
  {
   "cell_type": "code",
   "execution_count": 61,
   "id": "bcdbc77d",
   "metadata": {},
   "outputs": [],
   "source": [
    "import numpy as np\n",
    "import pandas as pd\n",
    "from math import sqrt\n",
    "import matplotlib.pyplot as plt\n",
    "\n",
    "G = 6.67e-11 # (m^3)/(kg * s^2)\n",
    "AU = 1.495978707 * 10e11 # astronomical unit in meters\n",
    "t = 0\n",
    "dt = 856"
   ]
  },
  {
   "cell_type": "code",
   "execution_count": 62,
   "id": "8ce78d9c",
   "metadata": {},
   "outputs": [],
   "source": [
    "def norm(vector):\n",
    "    '''Returns normalised vector of a 2-D vector'''\n",
    "    norm = vector/ sqrt(vector[0]**2 + vector[1]**2)\n",
    "    return norm\n",
    "\n",
    "def mag(vector):\n",
    "    ''' Returns magnitude of a 2-D vector'''\n",
    "    mag = sqrt(vector[0]**2 + vector[1]**2)\n",
    "    return mag"
   ]
  },
  {
   "cell_type": "code",
   "execution_count": 63,
   "id": "64dc6533",
   "metadata": {},
   "outputs": [
    {
     "name": "stdout",
     "output_type": "stream",
     "text": [
      "[    0.  36434.5]\n",
      "[1.50000289e+12 0.00000000e+00]\n"
     ]
    }
   ],
   "source": [
    "# G- Class star\n",
    "g_mass = 1.989e30\n",
    "g_vel = np.array([0,0])\n",
    "g_pos = np.array([0,0])\n",
    "\n",
    "#K Class star\n",
    "k_mass = 1.989e30/2\n",
    "k_vel = np.array([0,36434.5])\n",
    "k_pos = np.array([1.00269*AU,0])\n",
    "\n",
    "# r = k_pos - g_pos\n",
    "# R = mag(r)\n",
    "# print(r,R)\n",
    "print(k_vel)\n",
    "print(k_pos)"
   ]
  },
  {
   "cell_type": "code",
   "execution_count": 64,
   "id": "3c91253d",
   "metadata": {},
   "outputs": [
    {
     "data": {
      "text/plain": [
       "3.3234049956314513e+25"
      ]
     },
     "execution_count": 64,
     "metadata": {},
     "output_type": "execute_result"
    }
   ],
   "source": [
    "F = G*(k_mass*g_mass/R**2)\n",
    "F"
   ]
  },
  {
   "cell_type": "code",
   "execution_count": 65,
   "id": "a9b09d85",
   "metadata": {},
   "outputs": [
    {
     "data": {
      "text/plain": [
       "420.5607476635514"
      ]
     },
     "execution_count": 65,
     "metadata": {},
     "output_type": "execute_result"
    }
   ],
   "source": [
    "36e6/85600"
   ]
  },
  {
   "cell_type": "code",
   "execution_count": 66,
   "id": "56d53639",
   "metadata": {},
   "outputs": [
    {
     "name": "stderr",
     "output_type": "stream",
     "text": [
      "IOPub data rate exceeded.\n",
      "The notebook server will temporarily stop sending output\n",
      "to the client in order to avoid crashing it.\n",
      "To change this limit, set the config variable\n",
      "`--NotebookApp.iopub_data_rate_limit`.\n",
      "\n",
      "Current values:\n",
      "NotebookApp.iopub_data_rate_limit=1000000.0 (bytes/sec)\n",
      "NotebookApp.rate_limit_window=3.0 (secs)\n",
      "\n"
     ]
    }
   ],
   "source": [
    "pos1x = []\n",
    "pos1y = []\n",
    "while t < 36e6:\n",
    "    r = k_pos - g_pos\n",
    "    R = mag(r)\n",
    "    \n",
    "    F_x = G * (k_mass * g_mass/R**2) * (r[0]/R)\n",
    "    F_y = G * (k_mass * g_mass/R**2) * (r[1]/R)\n",
    "    \n",
    "    k_vel[0] = k_vel[0] + G*(k_mass/R**2)* (k_pos[0]/R)\n",
    "    k_vel[1] = k_vel[1] + G*(k_mass/R**2)* (k_pos[1]/R)\n",
    "    \n",
    "    k_pos[0] = k_pos[0] + k_vel[0]*dt\n",
    "    k_pos[1] = k_pos[1] + k_vel[1]*dt\n",
    "    \n",
    "    pos1x.append(k_pos[0])\n",
    "    pos1y.append(k_pos[1])\n",
    "    \n",
    "    print('****')\n",
    "    print(k_pos)\n",
    "    print()\n",
    "    print(k_vel)\n",
    "    \n",
    "    t += dt\n",
    "    "
   ]
  },
  {
   "cell_type": "code",
   "execution_count": 69,
   "id": "89073d22",
   "metadata": {},
   "outputs": [
    {
     "data": {
      "image/png": "[encoded data removed]",
      "text/plain": [
       "<Figure size 640x480 with 1 Axes>"
      ]
     },
     "metadata": {},
     "output_type": "display_data"
    }
   ],
   "source": [
    "plt.plot(pos1x,pos1y)\n",
    "plt.show()"
   ]
  },
  {
   "cell_type": "code",
   "execution_count": null,
   "id": "3c294270",
   "metadata": {},
   "outputs": [],
   "source": []
  }
 ],
 "metadata": {
  "kernelspec": {
   "display_name": "Python 3 (ipykernel)",
   "language": "python",
   "name": "python3"
  },
  "language_info": {
   "codemirror_mode": {
    "name": "ipython",
    "version": 3
   },
   "file_extension": ".py",
   "mimetype": "text/x-python",
   "name": "python",
   "nbconvert_exporter": "python",
   "pygments_lexer": "ipython3",
   "version": "3.9.7"
  }
 },
 "nbformat": 4,
 "nbformat_minor": 5
}

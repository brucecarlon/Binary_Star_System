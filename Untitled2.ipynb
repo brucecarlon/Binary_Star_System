{
 "cells": [
  {
   "cell_type": "code",
   "execution_count": 4,
   "id": "381ebe27",
   "metadata": {},
   "outputs": [],
   "source": [
    "from vpython import *"
   ]
  },
  {
   "cell_type": "code",
   "execution_count": 7,
   "id": "ff69a628",
   "metadata": {},
   "outputs": [
    {
     "name": "stdout",
     "output_type": "stream",
     "text": [
      "[]\n"
     ]
    }
   ],
   "source": [
    "\n",
    "G=6.67e-11\n",
    "m1=2e30\n",
    "m2=0.7e30\n",
    "rdist=2e10\n",
    "M=m1+m2\n",
    "\n",
    "r1=m2*rdist/(M)\n",
    "r2=rdist*(1-m2/M)\n",
    "star1=sphere(pos=vector(-r1,0,0),radius=1e9, color=color.yellow, make_trail=True)\n",
    "star2=sphere(pos=vector(r2,0,0), radius=0.6e9, color=color.cyan, make_trail=True)\n",
    "\n",
    "star1.m=m1\n",
    "star2.m=m2\n",
    "\n",
    "Rcom=(star1.m*star1.pos+star2.m*star2.pos)/M\n",
    "com=sphere(pos=Rcom, radius=0.3e9, make_trail=True)\n",
    "\n",
    "v1init=sqrt(G*star2.m**2/(rdist*M))\n",
    "star1.p=star1.m*vector(0,v1init,0)\n",
    "star2.p=-star1.p\n",
    "\n",
    "t=0\n",
    "dt=1000\n",
    "star1pos = []\n",
    "while t<1e7:\n",
    "  rate(100)\n",
    "  r=star2.pos-star1.pos\n",
    "  F2=-G*star1.m*star2.m*norm(r)/mag(r)**2\n",
    "  star1.p=star1.p-F2*dt\n",
    "  star2.p=star2.p+F2*dt\n",
    "  star1.pos=star1.pos+star1.p*dt/star1.m\n",
    "  #star1pos.append(star1.pos)\n",
    "  star2.pos=star2.pos+star2.p*dt/star2.m\n",
    "  Rcom=(star1.m*star1.pos+star2.m*star2.pos)/M\n",
    "  com.pos=Rcom\n",
    "  \n",
    "  t=t+dt\n",
    "  \n",
    "  \n",
    "print(star1pos)\n",
    "  "
   ]
  },
  {
   "cell_type": "code",
   "execution_count": null,
   "id": "f76890ec",
   "metadata": {},
   "outputs": [],
   "source": []
  }
 ],
 "metadata": {
  "kernelspec": {
   "display_name": "Python 3 (ipykernel)",
   "language": "python",
   "name": "python3"
  },
  "language_info": {
   "codemirror_mode": {
    "name": "ipython",
    "version": 3
   },
   "file_extension": ".py",
   "mimetype": "text/x-python",
   "name": "python",
   "nbconvert_exporter": "python",
   "pygments_lexer": "ipython3",
   "version": "3.9.7"
  }
 },
 "nbformat": 4,
 "nbformat_minor": 5
}

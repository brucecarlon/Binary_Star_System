{
 "cells": [
  {
   "cell_type": "code",
   "execution_count": 18,
   "id": "f821d780",
   "metadata": {},
   "outputs": [],
   "source": [
    "import numpy as np\n",
    "import pandas as pd\n",
    "from math import sqrt\n",
    "import matplotlib.pyplot as plt\n",
    "\n",
    "G = 6.67e-11 # (m^3)/(kg * s^2)\n",
    "AU = 1.495978707 * 10e11 # astronomical unit in meters\n",
    "\n",
    "\n",
    "\n",
    "class Star():\n",
    "    def __init__(self,x_pos,y_pos,x_vel,y_vel, mass):\n",
    "        self.pos = np.array([x_pos*AU,y_pos]) # position vector (units in AU)\n",
    "        self.vel = np.array([x_vel,y_vel]) # velocity vector (units in m/s)\n",
    "        \n",
    "        self.x_pos = self.pos[0]\n",
    "        self.y_pos = self.pos[1]\n",
    "        self.x_vel = self.vel[0]\n",
    "        self.y_pos = self.vel[1]\n",
    "        \n",
    "        self.mass = mass # star mass (units in kg)"
   ]
  },
  {
   "cell_type": "code",
   "execution_count": 31,
   "id": "150cca4d",
   "metadata": {},
   "outputs": [],
   "source": [
    "def norm(vector):\n",
    "    '''Returns normalised vector of a 2-D vector'''\n",
    "    norm = vector/ sqrt(vector[0]**2 + vector[1]**2)\n",
    "    return norm\n",
    "\n",
    "def mag(vector):\n",
    "    ''' Returns magnitude of a 2-D vector'''\n",
    "    mag = sqrt(vector[0]**2 + vector[1]**2)\n",
    "    return mag"
   ]
  },
  {
   "cell_type": "code",
   "execution_count": 32,
   "id": "30d02cb9",
   "metadata": {},
   "outputs": [],
   "source": [
    "init_dist = 1.00269*AU\n",
    "g_star = Star(0, 0, 0, 0, 1.989e30)\n",
    "k_star = Star(init_dist, 0, 0, 36434.5, 0.5*g_star.mass)"
   ]
  },
  {
   "cell_type": "code",
   "execution_count": 33,
   "id": "956a21f1",
   "metadata": {},
   "outputs": [],
   "source": [
    " init_dist = 1.00269*AU"
   ]
  },
  {
   "cell_type": "code",
   "execution_count": 34,
   "id": "d7c5f212",
   "metadata": {},
   "outputs": [
    {
     "data": {
      "text/plain": [
       "array([2.24397238e+24, 0.00000000e+00])"
      ]
     },
     "execution_count": 34,
     "metadata": {},
     "output_type": "execute_result"
    }
   ],
   "source": [
    "k_star.pos"
   ]
  },
  {
   "cell_type": "code",
   "execution_count": 42,
   "id": "9bd67f65",
   "metadata": {},
   "outputs": [
    {
     "data": {
      "text/plain": [
       "False"
      ]
     },
     "execution_count": 42,
     "metadata": {},
     "output_type": "execute_result"
    }
   ],
   "source": [
    "1.00269*AU == 2.24397238e+24\n"
   ]
  },
  {
   "cell_type": "code",
   "execution_count": 35,
   "id": "33a0349c",
   "metadata": {},
   "outputs": [
    {
     "data": {
      "text/plain": [
       "array([0., 0.])"
      ]
     },
     "execution_count": 35,
     "metadata": {},
     "output_type": "execute_result"
    }
   ],
   "source": [
    "g_star.pos"
   ]
  },
  {
   "cell_type": "code",
   "execution_count": 36,
   "id": "ff789cf4",
   "metadata": {},
   "outputs": [],
   "source": [
    "r = k_star.pos - g_star.pos\n",
    "R = mag(r)"
   ]
  },
  {
   "cell_type": "code",
   "execution_count": 37,
   "id": "b9656fca",
   "metadata": {},
   "outputs": [
    {
     "data": {
      "text/plain": [
       "array([2.24397238e+24, 0.00000000e+00])"
      ]
     },
     "execution_count": 37,
     "metadata": {},
     "output_type": "execute_result"
    }
   ],
   "source": [
    "r"
   ]
  },
  {
   "cell_type": "code",
   "execution_count": 38,
   "id": "917abb1b",
   "metadata": {},
   "outputs": [
    {
     "data": {
      "text/plain": [
       "26.20175545458222"
      ]
     },
     "execution_count": 38,
     "metadata": {},
     "output_type": "execute_result"
    }
   ],
   "source": [
    "F = G * (g_star.mass * k_star.mass/R**2)\n",
    "F"
   ]
  },
  {
   "cell_type": "code",
   "execution_count": 39,
   "id": "6422ea71",
   "metadata": {},
   "outputs": [
    {
     "data": {
      "text/plain": [
       "150000288972.183"
      ]
     },
     "execution_count": 39,
     "metadata": {},
     "output_type": "execute_result"
    }
   ],
   "source": [
    "(1.00269*1.495978707e11)"
   ]
  },
  {
   "cell_type": "code",
   "execution_count": 40,
   "id": "5e46c967",
   "metadata": {},
   "outputs": [],
   "source": [
    "F = 6.67e-11 * ((1.989e30)*(0.5*1.989e30)/(1.00269*1.495978707e11)**2)"
   ]
  },
  {
   "cell_type": "code",
   "execution_count": 41,
   "id": "44d76ea0",
   "metadata": {},
   "outputs": [
    {
     "data": {
      "text/plain": [
       "5.863827866869709e+27"
      ]
     },
     "execution_count": 41,
     "metadata": {},
     "output_type": "execute_result"
    }
   ],
   "source": [
    "F"
   ]
  },
  {
   "cell_type": "code",
   "execution_count": null,
   "id": "001c46ac",
   "metadata": {},
   "outputs": [],
   "source": []
  }
 ],
 "metadata": {
  "kernelspec": {
   "display_name": "Python 3 (ipykernel)",
   "language": "python",
   "name": "python3"
  },
  "language_info": {
   "codemirror_mode": {
    "name": "ipython",
    "version": 3
   },
   "file_extension": ".py",
   "mimetype": "text/x-python",
   "name": "python",
   "nbconvert_exporter": "python",
   "pygments_lexer": "ipython3",
   "version": "3.9.7"
  }
 },
 "nbformat": 4,
 "nbformat_minor": 5
}
